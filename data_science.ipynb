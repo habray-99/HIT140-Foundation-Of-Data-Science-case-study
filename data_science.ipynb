# %%
# Loaded variable 'df' from URI: /mnt/e/Foundation of Data Science/ass 1/dataset1.csv
import pandas as pd
df = pd.read_csv(r'/mnt/e/Foundation of Data Science/ass 1/dataset1.csv', engine='pyarrow')

# %%
df['rat_period_start'] = pd.to_datetime(df['rat_period_start'], format='%d/%m/%Y %H:%M')
df['rat_period_end'] = pd.to_datetime(df['rat_period_end'], format='%d/%m/%Y %H:%M')
df['sunset_time'] = pd.to_datetime(df['sunset_time'], format='%d/%m/%Y %H:%M')
df['start_time'] = pd.to_datetime(df['start_time'], format='%d/%m/%Y %H:%M')

# %%
df.describe()

# %%
df = df.fillna({'habit': df['habit'].ffill()})

# %%
df['habit'].unique()

# %%
df['bat_landing_to_food'].dtype

# %%


# %%
# Basic statistics for key variables
print("=== KEY VARIABLE STATISTICS ===")
print("\n1. Approach Time to Food:")
print(f"Mean: {df['bat_landing_to_food'].mean():.2f} seconds")
print(f"Median: {df['bat_landing_to_food'].median():.2f} seconds")
print(f"Standard deviation: {df['bat_landing_to_food'].std():.2f} seconds")

print("\n2. Risk Behavior:")
print(df['risk'].value_counts())
print(f"Risk-taking rate: {df['risk'].mean():.3f} ({df['risk'].mean()*100:.1f}%)")

print("\n3. Success Rate:")
print(df['reward'].value_counts())
print(f"Overall success rate: {df['reward'].mean():.3f} ({df['reward'].mean()*100:.1f}%)")

print("\n4. Landing Context:")
print(df['habit'].value_counts())

# Cross-tabulations (relationships between variables)
print("\n=== CROSS-TABULATIONS ===")
print("\n1. Risk vs Reward:")
print(pd.crosstab(df['risk'], df['reward'], margins=True))

print("\n2. Habit vs Risk:")
print(pd.crosstab(df['habit'], df['risk'], margins=True))

print("\n3. Habit vs Reward:")
print(pd.crosstab(df['habit'], df['reward'], margins=True))

# %%
import matplotlib.pyplot as plt
import seaborn as sns

# Set up the plots
fig, axes = plt.subplots(2, 2, figsize=(15, 10))
fig.suptitle('Bat Behavior Analysis', fontsize=16)

# Plot 1: Approach time by habit
sns.boxplot(data=df, x='habit', y='bat_landing_to_food', ax=axes[0,0])
axes[0,0].set_title('Time to Approach Food by Context')
axes[0,0].set_ylabel('Seconds')

# Plot 2: Risk behavior distribution
risk_counts = df['risk'].value_counts()
axes[0,1].pie(risk_counts.values, labels=['Risk-Avoidance', 'Risk-Taking'], autopct='%1.1f%%')
axes[0,1].set_title('Risk Behavior Distribution')

# Plot 3: Success rate by risk behavior
success_by_risk = df.groupby('risk')['reward'].mean()
axes[1,0].bar(['Risk-Avoidance', 'Risk-Taking'], success_by_risk.values)
axes[1,0].set_title('Success Rate by Risk Behavior')
axes[1,0].set_ylabel('Success Rate')

# Plot 4: Risk behavior by context
habit_risk = pd.crosstab(df['habit'], df['risk'], normalize='index')
habit_risk.plot(kind='bar', ax=axes[1,1])
axes[1,1].set_title('Risk Behavior by Context')
axes[1,1].set_ylabel('Proportion')
axes[1,1].legend(['Risk-Avoidance', 'Risk-Taking'])

plt.tight_layout()
plt.show()

# %%
import pandas as pd
import matplotlib.pyplot as plt
import seaborn as sns
import numpy as np

# First, let's clean the habit column - keep only the main categories
print("=== CLEANING HABIT DATA ===")
print("Original habit categories:", df['habit'].nunique())
print("Top 10 categories:")
print(df['habit'].value_counts().head(10))

# Clean the habit column - keep only meaningful categories
def clean_habit(habit):
    if pd.isna(habit):
        return 'unknown'
    habit = str(habit).lower()
    if 'rat' in habit and 'bat' not in habit and 'pick' not in habit:
        return 'rat'
    elif 'bat' in habit and 'rat' not in habit:
        return 'bat'
    elif 'pick' in habit and 'rat' not in habit:
        return 'pick'
    elif 'fast' in habit:
        return 'fast'
    elif any(char.isdigit() for char in habit):  # Remove coordinate data
        return 'unknown'
    else:
        return 'other'

# Apply cleaning
df['habit_clean'] = df['habit'].apply(clean_habit)
print("\nCleaned habit categories:")
print(df['habit_clean'].value_counts())

# CHART 1: Time to Approach Food by Context
plt.figure(figsize=(10, 6))
# Remove extreme outliers for better visualization
df_clean = df[df['bat_landing_to_food'] < 100]  # Remove values > 100 seconds
sns.boxplot(data=df_clean, x='habit_clean', y='bat_landing_to_food')
plt.title('Time to Approach Food by Context', fontsize=14, fontweight='bold')
plt.xlabel('Landing Context')
plt.ylabel('Seconds to Approach Food')
plt.xticks(rotation=45)
plt.tight_layout()
plt.show()

# CHART 2: Risk Behavior Distribution (Simple Pie Chart)
plt.figure(figsize=(8, 6))
risk_counts = df['risk'].value_counts()
colors = ['lightcoral', 'lightblue']
labels = ['Risk-Avoidance (0)', 'Risk-Taking (1)']
plt.pie(risk_counts.values, labels=labels, colors=colors, autopct='%1.1f%%', startangle=90)
plt.title('Overall Risk Behavior Distribution', fontsize=14, fontweight='bold')
plt.axis('equal')
plt.show()

# CHART 3: Success Rate by Risk Behavior
plt.figure(figsize=(8, 6))
success_by_risk = df.groupby('risk')['reward'].mean()
bars = plt.bar(['Risk-Avoidance', 'Risk-Taking'], success_by_risk.values, 
               color=['lightcoral', 'lightblue'], alpha=0.7)
plt.title('Success Rate by Risk Behavior', fontsize=14, fontweight='bold')
plt.ylabel('Success Rate (Proportion)')
plt.ylim(0, 1)
# Add value labels on bars
for bar, value in zip(bars, success_by_risk.values):
    plt.text(bar.get_x() + bar.get_width()/2, bar.get_height() + 0.02, 
             f'{value:.3f}', ha='center', va='bottom', fontsize=12)
plt.tight_layout()
plt.show()

# CHART 4: Risk Behavior by Clean Context
plt.figure(figsize=(10, 6))
habit_risk = pd.crosstab(df['habit_clean'], df['risk'], normalize='index')
habit_risk.plot(kind='bar', color=['lightcoral', 'lightblue'], alpha=0.7)
plt.title('Risk Behavior Proportion by Context', fontsize=14, fontweight='bold')
plt.xlabel('Landing Context')
plt.ylabel('Proportion')
plt.legend(['Risk-Avoidance', 'Risk-Taking'])
plt.xticks(rotation=45)
plt.tight_layout()
plt.show()

# CHART 5: Average Approach Time by Context (Bar Chart)
plt.figure(figsize=(10, 6))
avg_approach = df.groupby('habit_clean')['bat_landing_to_food'].mean().sort_values(ascending=False)
bars = plt.bar(avg_approach.index, avg_approach.values, color='skyblue', alpha=0.7)
plt.title('Average Time to Approach Food by Context', fontsize=14, fontweight='bold')
plt.xlabel('Landing Context')
plt.ylabel('Average Seconds to Approach Food')
plt.xticks(rotation=45)
# Add value labels
for bar, value in zip(bars, avg_approach.values):
    plt.text(bar.get_x() + bar.get_width()/2, bar.get_height() + 0.5, 
             f'{value:.1f}s', ha='center', va='bottom')
plt.tight_layout()
plt.show()

# CHART 6: Success Rate by Context
plt.figure(figsize=(10, 6))
success_by_habit = df.groupby('habit_clean')['reward'].mean().sort_values(ascending=False)
bars = plt.bar(success_by_habit.index, success_by_habit.values, color='lightgreen', alpha=0.7)
plt.title('Success Rate by Landing Context', fontsize=14, fontweight='bold')
plt.xlabel('Landing Context')
plt.ylabel('Success Rate (Proportion)')
plt.ylim(0, 1)
plt.xticks(rotation=45)
# Add value labels
for bar, value in zip(bars, success_by_habit.values):
    plt.text(bar.get_x() + bar.get_width()/2, bar.get_height() + 0.02, 
             f'{value:.3f}', ha='center', va='bottom')
plt.tight_layout()
plt.show()

# SUMMARY STATISTICS FOR CLEANED DATA
print("\n=== CLEANED DATA ANALYSIS ===")
print("\n1. Approach Time by Context:")
approach_stats = df.groupby('habit_clean')['bat_landing_to_food'].agg(['mean', 'median', 'count'])
print(approach_stats.round(2))

print("\n2. Risk Behavior by Context:")
risk_stats = df.groupby('habit_clean')['risk'].agg(['mean', 'count'])
risk_stats['risk_taking_percentage'] = risk_stats['mean'] * 100
print(risk_stats.round(3))

print("\n3. Success Rate by Context:")
success_stats = df.groupby('habit_clean')['reward'].agg(['mean', 'count'])
success_stats['success_percentage'] = success_stats['mean'] * 100
print(success_stats.round(3))

# KEY INSIGHTS
print("\n=== KEY INSIGHTS ===")
rat_data = df[df['habit_clean'] == 'rat']
other_data = df[df['habit_clean'] != 'rat']

if len(rat_data) > 0:
    print(f"\nRAT context vs OTHER contexts:")
    print(f"Average approach time: {rat_data['bat_landing_to_food'].mean():.2f}s vs {other_data['bat_landing_to_food'].mean():.2f}s")
    print(f"Risk-taking rate: {rat_data['risk'].mean():.3f} vs {other_data['risk'].mean():.3f}")
    print(f"Success rate: {rat_data['reward'].mean():.3f} vs {other_data['reward'].mean():.3f}")

# %%
from scipy import stats

print("=== HYPOTHESIS TESTING ===")

# Test 1: Do bats take longer to approach food in 'rat' context?
rat_context = df[df['habit'] == 'rat']['bat_landing_to_food'].dropna()
non_rat_context = df[df['habit'] != 'rat']['bat_landing_to_food'].dropna()

t_stat, p_value = stats.ttest_ind(rat_context, non_rat_context)
print(f"\nTest 1 - Vigilance Hypothesis:")
print(f"Rat context mean: {rat_context.mean():.2f} seconds")
print(f"Non-rat context mean: {non_rat_context.mean():.2f} seconds")
print(f"T-statistic: {t_stat:.3f}, P-value: {p_value:.3f}")

# Test 2: Is risk behavior different across contexts?
habit_risk_table = pd.crosstab(df['habit'], df['risk'])
chi2, p_chi2, dof, expected = stats.chi2_contingency(habit_risk_table)
print(f"\nTest 2 - Avoidance Hypothesis:")
print(f"Chi-square: {chi2:.3f}, P-value: {p_chi2:.3f}")

# Test 3: Correlation between timing and behavior
correlation, p_corr = stats.pearsonr(df['seconds_after_rat_arrival'], df['risk'])
print(f"\nTest 3 - Timing Effect:")
print(f"Correlation between arrival timing and risk: {correlation:.3f}")
print(f"P-value: {p_corr:.3f}")

# %%
from scipy import stats
import pandas as pd

print("=== STATISTICAL TESTS FOR PREDATOR HYPOTHESIS ===")

# Use the cleaned habit data
df['habit_clean'] = df['habit'].apply(clean_habit)

# TEST 1: VIGILANCE HYPOTHESIS
# Do bats take longer to approach food when rats are present?
print("\n1. VIGILANCE TEST (Approach Time)")
print("H0: No difference in approach time between rat and non-rat contexts")
print("H1: Bats take longer to approach food in rat contexts")

rat_approach = df[df['habit_clean'] == 'rat']['bat_landing_to_food'].dropna()
non_rat_approach = df[df['habit_clean'] != 'rat']['bat_landing_to_food'].dropna()

if len(rat_approach) > 0 and len(non_rat_approach) > 0:
    # Remove extreme outliers for more reliable test
    rat_approach = rat_approach[rat_approach < rat_approach.quantile(0.95)]
    non_rat_approach = non_rat_approach[non_rat_approach < non_rat_approach.quantile(0.95)]
    
    t_stat, p_value = stats.ttest_ind(rat_approach, non_rat_approach)
    
    print(f"Rat context: mean = {rat_approach.mean():.2f}s, n = {len(rat_approach)}")
    print(f"Non-rat context: mean = {non_rat_approach.mean():.2f}s, n = {len(non_rat_approach)}")
    print(f"T-statistic: {t_stat:.3f}")
    print(f"P-value: {p_value:.3f}")
    
    if p_value < 0.05:
        print("★ SIGNIFICANT: Bats show different approach times in rat contexts")
    else:
        print("✗ NOT SIGNIFICANT: No difference in approach times")
else:
    print("Insufficient data for t-test")

# TEST 2: AVOIDANCE HYPOTHESIS  
# Do bats show more risk-avoidance when rats are present?
print("\n2. AVOIDANCE TEST (Risk Behavior)")
print("H0: Risk behavior is independent of context")
print("H1: Bats show more avoidance in rat contexts")

# Create a simplified 2x2 table: rat vs non-rat, risk vs no-risk
df['is_rat_context'] = (df['habit_clean'] == 'rat').astype(int)
contingency_table = pd.crosstab(df['is_rat_context'], df['risk'])
print("Contingency Table:")
print("         Risk-Avoid  Risk-Take")
print(f"Non-rat     {contingency_table.iloc[0,0]:6d}     {contingency_table.iloc[0,1]:6d}")
print(f"Rat         {contingency_table.iloc[1,0]:6d}     {contingency_table.iloc[1,1]:6d}")

chi2, p_chi2, dof, expected = stats.chi2_contingency(contingency_table)
print(f"\nChi-square statistic: {chi2:.3f}")
print(f"P-value: {p_chi2:.3f}")
print(f"Degrees of freedom: {dof}")

if p_chi2 < 0.05:
    print("★ SIGNIFICANT: Risk behavior differs between contexts")
else:
    print("✗ NOT SIGNIFICANT: No association between context and risk behavior")

# Calculate effect size (Cramer's V)
n = contingency_table.sum().sum()
cramers_v = np.sqrt(chi2 / (n * (min(contingency_table.shape) - 1)))
print(f"Effect size (Cramer's V): {cramers_v:.3f}")

# TEST 3: SUCCESS RATE COMPARISON
print("\n3. SUCCESS RATE TEST")
print("H0: Success rate is same in rat and non-rat contexts")
print("H1: Success rate differs between contexts")

rat_success = df[df['habit_clean'] == 'rat']['reward']
non_rat_success = df[df['habit_clean'] != 'rat']['reward']

if len(rat_success) > 0 and len(non_rat_success) > 0:
    # Proportion test
    count1 = rat_success.sum()
    count2 = non_rat_success.sum()
    n1 = len(rat_success)
    n2 = len(non_rat_success)
    
    # Two-proportion z-test
    p1 = count1/n1
    p2 = count2/n2
    p_pooled = (count1 + count2)/(n1 + n2)
    
    z_stat = (p1 - p2) / np.sqrt(p_pooled * (1 - p_pooled) * (1/n1 + 1/n2))
    p_value_z = 2 * (1 - stats.norm.cdf(abs(z_stat)))
    
    print(f"Rat context success rate: {p1:.3f} ({count1}/{n1})")
    print(f"Non-rat context success rate: {p2:.3f} ({count2}/{n2})")
    print(f"Z-statistic: {z_stat:.3f}")
    print(f"P-value: {p_value_z:.3f}")
    
    if p_value_z < 0.05:
        print("★ SIGNIFICANT: Success rates differ between contexts")
    else:
        print("✗ NOT SIGNIFICANT: No difference in success rates")

# OVERALL CONCLUSION
print("\n" + "="*50)
print("EVIDENCE FOR PREDATOR HYPOTHESIS:")
print("="*50)

evidence_count = 0
total_tests = 3

if 'p_value' in locals() and p_value < 0.05:
    print("✓ VIGILANCE: Bats show different approach times in rat contexts")
    evidence_count += 1
else:
    print("✗ VIGILANCE: No significant difference in approach times")

if 'p_chi2' in locals() and p_chi2 < 0.05:
    print("✓ AVOIDANCE: Risk behavior differs between contexts")
    evidence_count += 1
else:
    print("✗ AVOIDANCE: No significant difference in risk behavior")

if 'p_value_z' in locals() and p_value_z < 0.05:
    print("✓ SUCCESS: Success rates differ between contexts")
    evidence_count += 1
else:
    print("✗ SUCCESS: No significant difference in success rates")

print(f"\nOVERALL: {evidence_count}/{total_tests} tests support the predator hypothesis")

if evidence_count >= 2:
    print("🎯 STRONG EVIDENCE: Bats likely perceive rats as predators")
elif evidence_count == 1:
    print("⚠️  WEAK EVIDENCE: Some support for predator hypothesis")
else:
    print("❌ NO EVIDENCE: Bats do not appear to perceive rats as predators")


